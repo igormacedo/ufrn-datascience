{
 "cells": [
  {
   "cell_type": "markdown",
   "metadata": {},
   "source": [
    "Caregando Pandas:"
   ]
  },
  {
   "cell_type": "code",
   "execution_count": 6,
   "metadata": {},
   "outputs": [],
   "source": [
    "import pandas as pd"
   ]
  },
  {
   "cell_type": "markdown",
   "metadata": {},
   "source": [
    "Caregando os dois arquivos:"
   ]
  },
  {
   "cell_type": "code",
   "execution_count": 7,
   "metadata": {},
   "outputs": [],
   "source": [
    "Data_Mat = pd.read_csv('student-mat.csv')\n",
    "Data_Por = pd.read_csv('student-por.csv')"
   ]
  },
  {
   "cell_type": "code",
   "execution_count": 8,
   "metadata": {},
   "outputs": [
    {
     "name": "stdout",
     "output_type": "stream",
     "text": [
      "  school sex  age address famsize Pstatus  Medu  Fedu     Mjob     Fjob ...  \\\n",
      "0     GP   F   18       U     GT3       A     4     4  at_home  teacher ...   \n",
      "1     GP   F   17       U     GT3       T     1     1  at_home    other ...   \n",
      "2     GP   F   15       U     LE3       T     1     1  at_home    other ...   \n",
      "\n",
      "  famrel freetime  goout  Dalc  Walc health absences G1 G2  G3  \n",
      "0      4        3      4     1     1      3        6  5  6   6  \n",
      "1      5        3      3     1     1      3        4  5  5   6  \n",
      "2      4        3      2     2     3      3       10  7  8  10  \n",
      "\n",
      "[3 rows x 33 columns]\n",
      "  school sex  age address famsize Pstatus  Medu  Fedu     Mjob     Fjob ...  \\\n",
      "0     GP   F   18       U     GT3       A     4     4  at_home  teacher ...   \n",
      "1     GP   F   17       U     GT3       T     1     1  at_home    other ...   \n",
      "\n",
      "  famrel freetime  goout  Dalc  Walc health absences G1  G2  G3  \n",
      "0      4        3      4     1     1      3        4  0  11  11  \n",
      "1      5        3      3     1     1      3        2  9  11  11  \n",
      "\n",
      "[2 rows x 33 columns]\n"
     ]
    }
   ],
   "source": [
    "print(Data_Mat.head(3))\n",
    "print(Data_Por.head(2))"
   ]
  },
  {
   "cell_type": "markdown",
   "metadata": {},
   "source": [
    "### Descrição da estrutura de dados:\n",
    "- school:  binary: ['GP' or 'MS'] <br>\n",
    "'GP' Gabriel Pereira <br>\n",
    "'MS' Mousinho da Silveira <br>\n",
    "\n",
    "- sex:     binary: ['F' or 'M'] <br>\n",
    "\n",
    "- age:     binary: [15 .. 22] <br>\n",
    "\n",
    "- address: binary: ['U' or 'R'] <br>\n",
    "\n",
    "- famsize: binary: ['LE3' or 'GT3'] <br>\n",
    "\n",
    "- Pstatus: binary: ['T' or 'A'] <br>\n",
    "\n",
    "- Medu:    Numeric: [0 1 2 3 4] <br>\n",
    "mother's education <br>\n",
    "numeric: <br>\n",
    "0 - none <br>\n",
    "1 - primary education (4th grade) <br>\n",
    "2 – 5th to 9th grade <br>\n",
    "3 – secondary education <br>\n",
    "4 – higher education <br>\n",
    "\n",
    "- Fedu:    Numeric: [0 1 2 3 4] <br>\n",
    "father's education <br>\n",
    "numeric: <br>\n",
    "0 - none <br>\n",
    "1 - primary education (4th grade) <br>\n",
    "2 – 5th to 9th grade <br>\n",
    "3 – secondary education <br>\n",
    "4 – higher education <br>\n",
    "\n",
    "- Mjob:     Nominal:['teacher' 'health' 'services' 'at_home' 'other'] <br>\n",
    "mother's job\n",
    "\n",
    "- Fjob:     Nominal:['teacher' 'health' 'services' 'at_home' 'other'] <br>\n",
    "father's job\n",
    "\n",
    "- reason:   Nominal: ['home' 'reputation' 'course' 'other'] <br>\n",
    "reason to choose this school <br>\n",
    "nominal: <br>\n",
    "close to 'home' <br>\n",
    "school 'reputation' <br>\n",
    "'course' preference <br>\n",
    "'other' <br>\n",
    "\n",
    "- guardian: Nominal: ['mother' 'father' 'other'] <br>\n",
    "student's guardian\n",
    "\n",
    "- traveltime: Numeric: [1 2 3 4] <br>\n",
    "home to school travel time <br>\n",
    "numeric: <br>\n",
    "1 - < 15 min. <br>\n",
    "2 - 15 to 30 min. <br>\n",
    "3 - 30 min. to 1 hour <br>\n",
    "4 - > 1 hour <br>\n",
    "\n",
    "- studytime: Numeric: [1 2 3 4] <br>\n",
    "weekly study time <br>\n",
    "numeric: <br>\n",
    "1 - < 2 hours <br>\n",
    "2 - 2 to 5 hours <br>\n",
    "3 - 5 to 10 hours <br>\n",
    "4 - > 10 hours <br>\n",
    "\n",
    "- failures: Numeric: [0 1 2 3] <br>\n",
    "number of past class failures <br>\n",
    "\n",
    "- schoolsup: Binary: ['yes' or 'no'] <br>\n",
    "extra educational support <br>\n",
    "\n",
    "- famsup: Binary: ['yes' or 'no'] <br>\n",
    "family educational support <br>\n",
    "\n",
    "- paid: Binary: ['yes' or 'no'] <br>\n",
    "extra paid classes within the course subject (Math or Portuguese) <br>\n",
    "\n",
    "- activities: Binary: ['yes' or 'no'] <br>\n",
    "extra-curricular activities <br>\n",
    "\n",
    "- nursery: binary: ['yes' or 'no'] <br>\n",
    "attended nursery school <br>\n",
    "\n",
    "- higher: binary: ['yes' or 'no'] <br>\n",
    "wants to take higher education <br>\n",
    "\n",
    "- internet: binary: ['yes' or 'no'] <br>\n",
    "Internet access at home <br>\n",
    "\n",
    "- romantic: binary: ['yes' or 'no'] <br>\n",
    "with a romantic relationship <br>\n",
    "\n",
    "- famrel: Numeric: [1 2 3 4 5] <br>\n",
    "quality of family relationships <br>\n",
    "numeric: <br>\n",
    "1 - very bad <br>\n",
    "5 - excellent <br>\n",
    "\n",
    "- freetime: Numeric: [1 2 3 4 5] <br>\n",
    "free time after school <br>\n",
    "numeric: <br>\n",
    "1 - very low <br>\n",
    "5 - very high <br>\n",
    "\n",
    "- goout: Numeric: [1 2 3 4 5] <br>\n",
    "going out with friends <br>\n",
    "numeric: <br>\n",
    "1 - very low <br>\n",
    "5 - very high <br>\n",
    "\n",
    "- Dalc: Numeric: [1 2 3 4 5] <br>\n",
    "workday alcohol consumption <br>\n",
    "numeric: <br>\n",
    "1 - very low <br>\n",
    "5 - very high <br>\n",
    "\n",
    "- Walc: Numeric: [1 2 3 4 5] <br>\n",
    "weekend alcohol consumption <br>\n",
    "numeric: <br>\n",
    "1 - very low <br>\n",
    "5 - very high <br>\n",
    "\n",
    "- health: Numeric: [1 2 3 4 5] <br>\n",
    "current health status <br>\n",
    "numeric: <br>\n",
    "1 - very bad <br>\n",
    "5 - very good <br>\n",
    "\n",
    "- absences: Numeric: [0 .. 93] <br>\n",
    "number of school absences <br>\n"
   ]
  },
  {
   "cell_type": "markdown",
   "metadata": {
    "collapsed": true
   },
   "source": [
    "### Estrutura do dado:\n",
    "|String|tipo|Valores|Adotando|\n",
    "|---:|---:|---:|---:|\n",
    "|school|Binary|['GP' or 'MS']|<font color='blue'>GP=0 e MS=1</font>|\n",
    "|sex|Binary|['F' or 'M']|<font color='blue'>F=0 e M=1</font>|\n",
    "|age|Binary|[15 .. 22]||\n",
    "|address|Binary|['U' or 'R']|<font color='blue'>U=0 e R=1</font>|\n",
    "|famsize|Binary|['LE3' or 'GT3']|<font color='blue'>LE3=0 e GT3=1</font>|\n",
    "|Pstatus|Binary|['T' or 'A']|<font color='blue'>T=0 e A=1</font>|\n",
    "|Medu|Numeric|[0 1 2 3 4]||\n",
    "|Fedu|Numeric|[0 1 2 3 4]||\n",
    "|Mjob|Nominal|['teacher' 'health' 'services' 'at_home' 'other']|<font color='blue'>teacher=0, health=1, services=2, at_home=3 e other=4</font>|\n",
    "|Fjob|Nominal|['teacher' 'health' 'services' 'at_home' 'other']|<font color='blue'>teacher=0, health=1, services=2, at_home=3 e other=4</font>|\n",
    "|reason|Nominal|['home' 'reputation' 'course' 'other']|<font color='blue'>home=0, reputation=1, course=2 e other=3]</font>|\n",
    "|guardian|Nominal|['mother' 'father' 'other']|<font color='blue'>mother=0, father=1 e other=2</font>|\n",
    "|traveltime|Numeric|[1 2 3 4]||\n",
    "|studytime|Numeric|[1 2 3 4]||\n",
    "|failures|Numeric|[0 1 2 3]||\n",
    "|schoolsup|Binary|['yes' or 'no']|<font color='blue'>no=0 e yes=1</font>|\n",
    "|famsup|Binary|['yes' or 'no']|<font color='blue'>no=0 e yes=1</font>|\n",
    "|paid|Binary|['yes' or 'no']|<font color='blue'>no=0 e yes=1</font>|\n",
    "|activities|Binary|['yes' or 'no']|<font color='blue'>no=0 e yes=1</font>|\n",
    "|nursery|Binary|['yes' or 'no']|<font color='blue'>no=0 e yes=1</font>|\n",
    "|higher|Binary|['yes' or 'no']|<font color='blue'>no=0 e yes=1</font>|\n",
    "|internet|Binary|['yes' or 'no']|<font color='blue'>no=0 e yes=1</font>|\n",
    "|romantic|Binary|['yes' or 'no']|<font color='blue'>no=0 e yes=1</font>|\n",
    "|famrel|Numeric|[1 2 3 4 5]||\n",
    "|freetime|Numeric|[1 2 3 4 5]||\n",
    "|goout|Numeric|[1 2 3 4 5]||\n",
    "|Dalc|Numeric|[1 2 3 4 5]||\n",
    "|Walc|Numeric|[1 2 3 4 5]||\n",
    "|health|Numeric|[1 2 3 4 5]||\n",
    "|absences|Numeric|[0 .. 93]||\n",
    "|<font color='blue'>Materia</font>|<font color='blue'>Binary</font>|<font color='blue'>[0 1]</font>|<font color='blue'>0=Mat e 1=Por</font>|"
   ]
  },
  {
   "cell_type": "markdown",
   "metadata": {},
   "source": [
    "Criando mais uma coluna que identifica a materia que o aluno esta matriculado. (0 para matematica e 1 para o portugues)"
   ]
  },
  {
   "cell_type": "code",
   "execution_count": 9,
   "metadata": {},
   "outputs": [],
   "source": [
    "Data_Mat['Materia']=0;\n",
    "Data_Por['Materia']=1;"
   ]
  },
  {
   "cell_type": "code",
   "execution_count": 10,
   "metadata": {},
   "outputs": [],
   "source": [
    "Data = pd.concat([Data_Mat,Data_Por],axis=0)"
   ]
  },
  {
   "cell_type": "code",
   "execution_count": 11,
   "metadata": {},
   "outputs": [
    {
     "name": "stdout",
     "output_type": "stream",
     "text": [
      "  school sex  age address famsize Pstatus  Medu  Fedu     Mjob      Fjob  \\\n",
      "0     GP   F   18       U     GT3       A     4     4  at_home   teacher   \n",
      "1     GP   F   17       U     GT3       T     1     1  at_home     other   \n",
      "2     GP   F   15       U     LE3       T     1     1  at_home     other   \n",
      "3     GP   F   15       U     GT3       T     4     2   health  services   \n",
      "4     GP   F   16       U     GT3       T     3     3    other     other   \n",
      "\n",
      "    ...   freetime goout  Dalc  Walc  health absences  G1  G2  G3 Materia  \n",
      "0   ...          3     4     1     1       3        6   5   6   6       0  \n",
      "1   ...          3     3     1     1       3        4   5   5   6       0  \n",
      "2   ...          3     2     2     3       3       10   7   8  10       0  \n",
      "3   ...          2     2     1     1       5        2  15  14  15       0  \n",
      "4   ...          3     2     1     2       5        4   6  10  10       0  \n",
      "\n",
      "[5 rows x 34 columns]\n"
     ]
    }
   ],
   "source": [
    "print(Data.head(5))"
   ]
  },
  {
   "cell_type": "code",
   "execution_count": 12,
   "metadata": {},
   "outputs": [],
   "source": [
    "Data.loc[Data['school']=='GP','school'] = 0\n",
    "Data.loc[Data['school']=='MS','school'] = 1\n",
    "\n",
    "Data.loc[Data['sex']=='F','sex'] = 0\n",
    "Data.loc[Data['sex']=='M','sex'] = 1\n",
    "\n",
    "Data.loc[Data['address']=='U','address'] = 0\n",
    "Data.loc[Data['address']=='R','address'] = 1\n",
    "\n",
    "Data.loc[Data['famsize']=='LE3','famsize'] = 0\n",
    "Data.loc[Data['famsize']=='GT3','famsize'] = 1\n",
    "\n",
    "Data.loc[Data['Pstatus']=='T','Pstatus'] = 0\n",
    "Data.loc[Data['Pstatus']=='A','Pstatus'] = 1\n",
    "\n",
    "Data.loc[Data['Mjob']=='teacher','Mjob'] = 0\n",
    "Data.loc[Data['Mjob']=='health','Mjob'] = 1\n",
    "Data.loc[Data['Mjob']=='services','Mjob'] = 2\n",
    "Data.loc[Data['Mjob']=='at_home','Mjob'] = 3\n",
    "Data.loc[Data['Mjob']=='other','Mjob'] = 4\n",
    "\n",
    "Data.loc[Data['Fjob']=='teacher','Fjob'] = 0\n",
    "Data.loc[Data['Fjob']=='health','Fjob'] = 1\n",
    "Data.loc[Data['Fjob']=='services','Fjob'] = 2\n",
    "Data.loc[Data['Fjob']=='at_home','Fjob'] = 3\n",
    "Data.loc[Data['Fjob']=='other','Fjob'] = 4\n",
    "\n",
    "Data.loc[Data['reason']=='home','reason'] = 0\n",
    "Data.loc[Data['reason']=='reputation','reason'] = 1\n",
    "Data.loc[Data['reason']=='course','reason'] = 2\n",
    "Data.loc[Data['reason']=='other','reason'] = 3\n",
    "\n",
    "Data.loc[Data['guardian']=='mother','guardian'] = 0\n",
    "Data.loc[Data['guardian']=='father','guardian'] = 1\n",
    "Data.loc[Data['guardian']=='other','guardian'] = 2\n",
    "\n",
    "\n",
    "\n",
    "\n",
    "Data.loc[Data['schoolsup']=='no','schoolsup'] = 0\n",
    "Data.loc[Data['schoolsup']=='yes','schoolsup'] = 1\n",
    "\n",
    "Data.loc[Data['famsup']=='no','famsup'] = 0\n",
    "Data.loc[Data['famsup']=='yes','famsup'] = 1\n",
    "\n",
    "Data.loc[Data['paid']=='no','paid'] = 0\n",
    "Data.loc[Data['paid']=='yes','paid'] = 1\n",
    "\n",
    "Data.loc[Data['activities']=='no','activities'] = 0\n",
    "Data.loc[Data['activities']=='yes','activities'] = 1\n",
    "\n",
    "Data.loc[Data['nursery']=='no','nursery'] = 0\n",
    "Data.loc[Data['nursery']=='yes','nursery'] = 1\n",
    "\n",
    "Data.loc[Data['higher']=='no','higher'] = 0\n",
    "Data.loc[Data['higher']=='yes','higher'] = 1\n",
    "\n",
    "Data.loc[Data['internet']=='no','internet'] = 0\n",
    "Data.loc[Data['internet']=='yes','internet'] = 1\n",
    "\n",
    "Data.loc[Data['romantic']=='no','romantic'] = 0\n",
    "Data.loc[Data['romantic']=='yes','romantic'] = 1 "
   ]
  },
  {
   "cell_type": "code",
   "execution_count": 13,
   "metadata": {},
   "outputs": [
    {
     "data": {
      "text/html": [
       "<div>\n",
       "<style scoped>\n",
       "    .dataframe tbody tr th:only-of-type {\n",
       "        vertical-align: middle;\n",
       "    }\n",
       "\n",
       "    .dataframe tbody tr th {\n",
       "        vertical-align: top;\n",
       "    }\n",
       "\n",
       "    .dataframe thead th {\n",
       "        text-align: right;\n",
       "    }\n",
       "</style>\n",
       "<table border=\"1\" class=\"dataframe\">\n",
       "  <thead>\n",
       "    <tr style=\"text-align: right;\">\n",
       "      <th></th>\n",
       "      <th>school</th>\n",
       "      <th>sex</th>\n",
       "      <th>address</th>\n",
       "      <th>famsize</th>\n",
       "      <th>Pstatus</th>\n",
       "      <th>Mjob</th>\n",
       "      <th>Fjob</th>\n",
       "      <th>reason</th>\n",
       "      <th>guardian</th>\n",
       "    </tr>\n",
       "  </thead>\n",
       "  <tbody>\n",
       "    <tr>\n",
       "      <th>0</th>\n",
       "      <td>0</td>\n",
       "      <td>0</td>\n",
       "      <td>0</td>\n",
       "      <td>1</td>\n",
       "      <td>1</td>\n",
       "      <td>3</td>\n",
       "      <td>0</td>\n",
       "      <td>2</td>\n",
       "      <td>0</td>\n",
       "    </tr>\n",
       "    <tr>\n",
       "      <th>1</th>\n",
       "      <td>0</td>\n",
       "      <td>0</td>\n",
       "      <td>0</td>\n",
       "      <td>1</td>\n",
       "      <td>0</td>\n",
       "      <td>3</td>\n",
       "      <td>4</td>\n",
       "      <td>2</td>\n",
       "      <td>1</td>\n",
       "    </tr>\n",
       "    <tr>\n",
       "      <th>2</th>\n",
       "      <td>0</td>\n",
       "      <td>0</td>\n",
       "      <td>0</td>\n",
       "      <td>0</td>\n",
       "      <td>0</td>\n",
       "      <td>3</td>\n",
       "      <td>4</td>\n",
       "      <td>3</td>\n",
       "      <td>0</td>\n",
       "    </tr>\n",
       "  </tbody>\n",
       "</table>\n",
       "</div>"
      ],
      "text/plain": [
       "   school  sex  address  famsize  Pstatus  Mjob  Fjob  reason  guardian\n",
       "0       0    0        0        1        1     3     0       2         0\n",
       "1       0    0        0        1        0     3     4       2         1\n",
       "2       0    0        0        0        0     3     4       3         0"
      ]
     },
     "execution_count": 13,
     "metadata": {},
     "output_type": "execute_result"
    }
   ],
   "source": [
    "Data.loc[:,(['school','sex','address','famsize','Pstatus','Mjob','Fjob','reason','guardian'])].head(3)"
   ]
  },
  {
   "cell_type": "code",
   "execution_count": 14,
   "metadata": {},
   "outputs": [
    {
     "data": {
      "text/html": [
       "<div>\n",
       "<style scoped>\n",
       "    .dataframe tbody tr th:only-of-type {\n",
       "        vertical-align: middle;\n",
       "    }\n",
       "\n",
       "    .dataframe tbody tr th {\n",
       "        vertical-align: top;\n",
       "    }\n",
       "\n",
       "    .dataframe thead th {\n",
       "        text-align: right;\n",
       "    }\n",
       "</style>\n",
       "<table border=\"1\" class=\"dataframe\">\n",
       "  <thead>\n",
       "    <tr style=\"text-align: right;\">\n",
       "      <th></th>\n",
       "      <th>schoolsup</th>\n",
       "      <th>famsup</th>\n",
       "      <th>paid</th>\n",
       "      <th>activities</th>\n",
       "      <th>nursery</th>\n",
       "      <th>higher</th>\n",
       "      <th>internet</th>\n",
       "      <th>romantic</th>\n",
       "    </tr>\n",
       "  </thead>\n",
       "  <tbody>\n",
       "    <tr>\n",
       "      <th>0</th>\n",
       "      <td>1</td>\n",
       "      <td>0</td>\n",
       "      <td>0</td>\n",
       "      <td>0</td>\n",
       "      <td>1</td>\n",
       "      <td>1</td>\n",
       "      <td>0</td>\n",
       "      <td>0</td>\n",
       "    </tr>\n",
       "    <tr>\n",
       "      <th>1</th>\n",
       "      <td>0</td>\n",
       "      <td>1</td>\n",
       "      <td>0</td>\n",
       "      <td>0</td>\n",
       "      <td>0</td>\n",
       "      <td>1</td>\n",
       "      <td>1</td>\n",
       "      <td>0</td>\n",
       "    </tr>\n",
       "    <tr>\n",
       "      <th>2</th>\n",
       "      <td>1</td>\n",
       "      <td>0</td>\n",
       "      <td>1</td>\n",
       "      <td>0</td>\n",
       "      <td>1</td>\n",
       "      <td>1</td>\n",
       "      <td>1</td>\n",
       "      <td>0</td>\n",
       "    </tr>\n",
       "  </tbody>\n",
       "</table>\n",
       "</div>"
      ],
      "text/plain": [
       "   schoolsup  famsup  paid  activities  nursery  higher  internet  romantic\n",
       "0          1       0     0           0        1       1         0         0\n",
       "1          0       1     0           0        0       1         1         0\n",
       "2          1       0     1           0        1       1         1         0"
      ]
     },
     "execution_count": 14,
     "metadata": {},
     "output_type": "execute_result"
    }
   ],
   "source": [
    "Data.loc[:,(['schoolsup','famsup','paid','activities','nursery','higher','internet','romantic'])].head(3)"
   ]
  },
  {
   "cell_type": "markdown",
   "metadata": {},
   "source": [
    "Dalc - Durante a semana<br>\n",
    "Walc - Final de semana"
   ]
  },
  {
   "cell_type": "code",
   "execution_count": 26,
   "metadata": {},
   "outputs": [],
   "source": [
    "%matplotlib inline\n",
    "import seaborn as sns\n",
    "import numpy as np\n",
    "import matplotlib.pyplot as plt"
   ]
  },
  {
   "cell_type": "code",
   "execution_count": 29,
   "metadata": {},
   "outputs": [
    {
     "data": {
      "text/plain": [
       "<matplotlib.axes._subplots.AxesSubplot at 0x7f8a147cab90>"
      ]
     },
     "execution_count": 29,
     "metadata": {},
     "output_type": "execute_result"
    },
    {
     "data": {
      "image/png": "[encoded data removed]",
      "text/plain": [
       "<matplotlib.figure.Figure at 0x7f8a14a679d0>"
      ]
     },
     "metadata": {},
     "output_type": "display_data"
    }
   ],
   "source": [
    "#heatmap para domonstrar correlação de features\n",
    "#https://seaborn.pydata.org/examples/many_pairwise_correlations.html\n",
    "\n",
    "corr = Data.corr()\n",
    "\n",
    "# Generate a mask\n",
    "mask = np.zeros_like(corr, dtype=np.bool)\n",
    "#mask[np.triu_indices_from(mask)] = True ## diagonal matrix only\n",
    "\n",
    "# Set up the matplotlib figure\n",
    "f, ax = plt.subplots(figsize=(11, 9))\n",
    "\n",
    "# Generate a custom diverging colormap\n",
    "cmap = sns.diverging_palette(220, 10, as_cmap=True)\n",
    "\n",
    "# Draw the heatmap with the mask and correct aspect ratio\n",
    "sns.heatmap(corr, mask=mask, cmap=cmap, vmax=0.9, center=0,\n",
    "            square=True, linewidths=.5, cbar_kws={\"shrink\": .5})"
   ]
  },
  {
   "cell_type": "code",
   "execution_count": null,
   "metadata": {},
   "outputs": [],
   "source": [
    "sns.pairplot(Data, size=2.5)"
   ]
  },
  {
   "cell_type": "code",
   "execution_count": null,
   "metadata": {},
   "outputs": [],
   "source": []
  }
 ],
 "metadata": {
  "kernelspec": {
   "display_name": "Python 2",
   "language": "python",
   "name": "python2"
  },
  "language_info": {
   "codemirror_mode": {
    "name": "ipython",
    "version": 2
   },
   "file_extension": ".py",
   "mimetype": "text/x-python",
   "name": "python",
   "nbconvert_exporter": "python",
   "pygments_lexer": "ipython2",
   "version": "2.7.6"
  }
 },
 "nbformat": 4,
 "nbformat_minor": 2
}

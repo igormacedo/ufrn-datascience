{
 "cells": [
  {
   "cell_type": "markdown",
   "metadata": {},
   "source": [
    "# Tópicos Especiais em Processamento da Informação: Ciência de Dados\n",
    "\n",
    "Prof. Luiz Affonso Guedes Engenharia de Computação - UFRN 2017-2"
   ]
  },
  {
   "cell_type": "markdown",
   "metadata": {},
   "source": [
    "## Conteúdo: \n",
    "- grafos em Python\n",
    "- pacote NetworkX do Python"
   ]
  },
  {
   "cell_type": "markdown",
   "metadata": {},
   "source": [
    "Referências:\n",
    "    - NetworkX Tutorial: https://networkx.github.io/documentation/networkx-1.10/tutorial/index.html \n",
    "    - Introduction to Data Science - A Python Approach to Concepts, Techniques and Applications. Springer, 2017.\n",
    "    "
   ]
  },
  {
   "cell_type": "markdown",
   "metadata": {},
   "source": [
    "## Conceitos:\n",
    "- Os dados de rede são gerados quando consideramos as relações entre dois ou mais entidades nos dados, como as rodovias que ligam cidades, amizades entre pessoas ou seus telefonemas. Nos últimos anos, uma grande quantidade de dados de rede estão sendo gerado e analisado em diferentes campos. Por exemplo, na sociologia há interesse\n",
    "na análise de redes de blogs, que podem ser construídas com base em suas citações, para divisões em suas estruturas entre orientações políticas. Outro exemplo são redes de transmissão de doenças infecciosas, que são construídas em estudos epidemiológicos para encontrar a melhor maneira de prevenir a infecção de pessoas em um território, isolando certas áreas. Outros exemplos estudados no campo da tecnologia incluem interconexão redes de computadores ou redes elétricas, que são analisadas para otimizar seus funcionamentos.\n",
    "- A estruturação de dados como redes pode facilitar o estudo dos dados para diferentes objetivos; por exemplo, para descobrir as fraquezas de uma estrutura. Esse poderia ser o objetivo de um biólogo estudando uma comunidade de plantas e tentando estabelecer qual delas propriedades promovem a transmissão rápida de uma doença. Um objetivo contrastante seria para encontrar e explorar estruturas que funcionam de forma eficiente para a transmissão de mensagens em toda a rede. Este pode ser o objetivo de um agente de publicidade tentando encontrar o melhor estratégia para difundir publicidade."
   ]
  },
  {
   "cell_type": "markdown",
   "metadata": {},
   "source": [
    "## Questões importantes a serem respondidas sobre redes\n",
    "- Com qual tipo de rede lidamos?\n",
    "- Qual é o membro mais representativo da rede em termos de ser o mais conectado ao resto dos outros membros?\n",
    "- Qual é o membro mais representativo da rede em termos de ser o que a maioria circulou nos caminhos entre o resto dos membros?\n",
    "- Qual é o membro mais representativo da rede em termos de proximidade com o o resto dos outros membros?\n",
    "- Qual é o membro mais representativo da rede em termos de ser o mais acessível a partir de qualquer local na rede?\n",
    "- Existem muitas maneiras de calcular a representatividade ou a importância de um membro, cada um com um significado diferente, então: como podemos ilustrar e compara-os?\n",
    "- Existem diferentes sub-redes? Em caso afirmativo, quantas?\n",
    "- Algum membro da rede pertence a mais de uma sub-rede? Isso é,existe alguma sobreposição entre as comunidades? Quanto sobrepõe? Como podemos nós ilustrar esta sobreposição?\n",
    "- Qual é a maior sub-rede?\n",
    "- Qual é a sub-rede mais densa (em termos de conexões)?\n",
    "- Como podemos detectar automaticamente as sub-redes?"
   ]
  },
  {
   "cell_type": "markdown",
   "metadata": {},
   "source": [
    "## Conceitos Básicos Sobre Grafos\n",
    "- Grafo é o termo matemático usado para se referir a uma rede. Assim, o campo que estuda as redes é chamado de teoria dos grafos e fornece as ferramentas necessárias para analisar sistematicamente as redes.\n",
    "- Leonhard Euler definiu o primeiro grafo em 1735, como uma abstração de um dos problemas colocados pelos matemáticos da época em relação a Konigsberg, uma cidade com duas ilhas criadas pelo rio Pregel, que foi atravessada por sete pontes. O problema era: é possível caminhar pela cidade de Konigsberg atravessando cada ponte uma vez e apenas uma vez? Euler representou as áreas terrestres como nós e as pontes conectando-os como bordas de um gráfico e provou que a caminhada não era possível para esta grafo específico.\n",
    "- Um grafo é definido como um conjunto de nós, que são uma abstração de qualquer entidade (partes de uma cidade, pessoas, etc.) e os links de conexão entre pares de nós chamados bordas, arestas ou relacionamentos. A borda entre dois nós pode ser direcionada ou não dirigida. UMA borda direcionada significa que os pontos de borda de um nó para o outro e não o outro meio caminho. Dependendo se as bordas de um grafo são direcionadas ou não, o grafo é chamado de grafo direcionado ou grafo não direcionado, respectivamente.\n",
    "- O grau de um nó é o número de arestas que se conectam a ele. Se uma rede é direcionada, os nós têm dois graus diferentes, o grau de entrada, que é o número de arestas de entrada, e o grau de saída, que é o número de arestas de saída.\n",
    "- Há informações que gostaríamos de adicionar aos gráficos para modelar propriedades, como pesos aos links entre os nós, para representar alguma medida do mundo real. Neste caso, o gráfico é chamado de gráfico ponderado.\n",
    "- Caminho em uma rede é uma seqüência de nós conectados por arestas. A utilizade disto é que muitas aplicações de sistemas em rede requerem roteiros mais curtos a serem computados. O problema do caminho mais curto é o problema de encontrar um caminho entre dois nós em um grafo, de modo que o comprimento do caminho ou a soma dos pesos das arestas no caminho seja minimizado.\n",
    "- Um grafo é dito estar conectado se para cada par de nós, há um caminho entre eles. Um gráfico está totalmente conectado ou completo se cada par de nós estiver conectado por uma aresta. Um componente conectado ou simplesmente um componente de um gráfico é um subconjunto de seus nós, de modo que cada nó no subconjunto tenha um caminho para qualquer outro. Um subgrafo é um subconjunto dos nós de um gráfico e todas as arestas que ligam esses nós. Qualquer grupo de nós pode formar um subgrafo."
   ]
  },
  {
   "cell_type": "markdown",
   "metadata": {},
   "source": [
    "## Pacote NetoworkX\n",
    "- NetworkX é um pacote Python para criação, manipulação e estudo da estrutura, dinâmica e funções de redes complexas.\n",
    "- O NetworkX fornece estruturas de dados para gráficos (ou redes) juntamente com algoritmos gráficos, geradores e ferramentas de desenho.\n",
    "- O pacote fornece classes para objetos gráficos, geradores para criar gráficos padrão, rotinas IO para leitura em conjuntos de dados existentes, algoritmos para analisar as redes resultantes e algumas ferramentas de desenho básicas.\n"
   ]
  },
  {
   "cell_type": "code",
   "execution_count": 1,
   "metadata": {
    "collapsed": true
   },
   "outputs": [],
   "source": [
    "# Importação do pacote NetworkX\n",
    "# Importação do MatPlot\n",
    "\n",
    "import networkx as nx\n",
    "%matplotlib inline\n",
    "\n"
   ]
  },
  {
   "cell_type": "markdown",
   "metadata": {},
   "source": [
    "### Tipos de Grafos:\n",
    "- Grafos não-direcionados\n",
    " - G=nx.Graph()\n",
    "- Grafos direcionados\n",
    " - G=nx.DiGraph()\n",
    "- Multigrafos não-direcionados\n",
    " - G=nx.MultiGraph()\n",
    "- Muti-grafos direcionados\n",
    " - G=nx.MultiDiGraph()\n"
   ]
  },
  {
   "cell_type": "markdown",
   "metadata": {},
   "source": [
    "#### Os objetos do gráfico NetworkX podem ser criados de uma das três maneiras:\n",
    "\n",
    "- Geradores de gráfico - algoritmos padrão para criar topologias de rede.\n",
    "- Importando dados de fontes pré-existentes (geralmente arquivos).\n",
    "- Adicionando arestas e nós de forma explícita.\n",
    "\n",
    "A adição explícita e a remoção de nós / arestas é a mais fácil de descrever. Cada objeto de gráfico fornece métodos para manipular o gráfico."
   ]
  },
  {
   "cell_type": "code",
   "execution_count": 2,
   "metadata": {
    "collapsed": true
   },
   "outputs": [],
   "source": [
    "# Criação de um grafo não-direcionado\n",
    "G=nx.Graph()  # Graph criation"
   ]
  },
  {
   "cell_type": "code",
   "execution_count": 3,
   "metadata": {
    "collapsed": true
   },
   "outputs": [],
   "source": [
    "# Adicionando um nó\n",
    "G.add_node(1)"
   ]
  },
  {
   "cell_type": "code",
   "execution_count": 4,
   "metadata": {},
   "outputs": [
    {
     "data": {
      "image/png": "[encoded data removed]",
      "text/plain": [
       "<matplotlib.figure.Figure at 0x10c07ea90>"
      ]
     },
     "metadata": {},
     "output_type": "display_data"
    }
   ],
   "source": [
    "# Desenhando o grafo\n",
    "\n",
    "nx.draw_networkx(G)"
   ]
  },
  {
   "cell_type": "code",
   "execution_count": null,
   "metadata": {},
   "outputs": [],
   "source": [
    "# Adicionando uma lista de nós\n",
    "G.add_nodes_from([2,3,4,5,6])\n",
    "\n",
    "nx.draw_networkx(G)"
   ]
  },
  {
   "cell_type": "code",
   "execution_count": null,
   "metadata": {},
   "outputs": [],
   "source": [
    "# Removendo um nó\n",
    "G.remove_node(6)\n",
    "\n",
    "nx.draw_networkx(G)"
   ]
  },
  {
   "cell_type": "code",
   "execution_count": null,
   "metadata": {},
   "outputs": [],
   "source": [
    "# Removendo uma lista de nós\n",
    "G.remove_nodes_from([4,5])\n",
    "\n",
    "nx.draw_networkx(G)"
   ]
  },
  {
   "cell_type": "code",
   "execution_count": null,
   "metadata": {},
   "outputs": [],
   "source": [
    "# Adição de arestas num grafo\n",
    "\n",
    "G.add_edge(1,2)  # default edge data=1\n",
    "G.add_edge(2,3,weight=0.9) # specify edge data\n",
    "nx.draw_networkx(G)"
   ]
  },
  {
   "cell_type": "markdown",
   "metadata": {},
   "source": [
    "Há vários formato para desenhar um grafo"
   ]
  },
  {
   "cell_type": "code",
   "execution_count": null,
   "metadata": {},
   "outputs": [],
   "source": [
    "g = nx.erdos_renyi_graph(25,0.15)\n",
    "nx.draw_networkx(g)"
   ]
  },
  {
   "cell_type": "code",
   "execution_count": null,
   "metadata": {},
   "outputs": [],
   "source": [
    "nx.draw(g)"
   ]
  },
  {
   "cell_type": "code",
   "execution_count": null,
   "metadata": {},
   "outputs": [],
   "source": [
    "nx.draw_random(g)"
   ]
  },
  {
   "cell_type": "code",
   "execution_count": null,
   "metadata": {},
   "outputs": [],
   "source": [
    "nx.draw_circular(g)"
   ]
  },
  {
   "cell_type": "code",
   "execution_count": null,
   "metadata": {},
   "outputs": [],
   "source": [
    "nx.draw_spectral(g)"
   ]
  },
  {
   "cell_type": "markdown",
   "metadata": {},
   "source": [
    "### Salvando um grafo\n",
    "- padrão de figura"
   ]
  },
  {
   "cell_type": "code",
   "execution_count": null,
   "metadata": {
    "collapsed": true
   },
   "outputs": [],
   "source": [
    "nx.draw(G)\n",
    "plt.savefig(\"teste.png\")"
   ]
  },
  {
   "cell_type": "markdown",
   "metadata": {},
   "source": [
    "Outros exemplos de criação de grafos (direcionado e não-direcionados)"
   ]
  },
  {
   "cell_type": "code",
   "execution_count": null,
   "metadata": {},
   "outputs": [],
   "source": [
    "# Criação de um Grafo Não-Direcionado\n",
    "# Quando se adiciona aresta a nós não existentes, o NetworkX cria dinamicamente esses nós\n",
    "\n",
    "G1 = nx.Graph ()\n",
    "G1.add_edge(\"A\", \"B\");\n",
    "G1.add_edge(\"A\", \"C\");\n",
    "G1.add_edge(\"B\", \"D\");\n",
    "G1.add_edge(\"B\", \"E\");\n",
    "G1.add_edge(\"D\", \"E\");\n",
    "nx.draw_networkx(G1)"
   ]
  },
  {
   "cell_type": "code",
   "execution_count": null,
   "metadata": {},
   "outputs": [],
   "source": [
    "print(\"Explique o que o comando a baixo faz?\")\n",
    "'A' in G1"
   ]
  },
  {
   "cell_type": "code",
   "execution_count": null,
   "metadata": {},
   "outputs": [],
   "source": [
    "print(\"Explique o que o comando a baixo faz?\")\n",
    "G1.has_edge('A','B')"
   ]
  },
  {
   "cell_type": "code",
   "execution_count": null,
   "metadata": {
    "collapsed": true
   },
   "outputs": [],
   "source": [
    "# Criação de um Grafo Direcionado\n",
    "\n",
    "\n",
    "G2 = nx.DiGraph ()\n",
    "G2.add_edge(\"A\", \"B\");\n",
    "G2.add_edge(\"A\", \"C\");\n",
    "G2.add_edge(\"B\", \"D\");\n",
    "G2.add_edge(\"B\", \"E\");\n",
    "G2.add_edge(\"D\", \"E\");\n",
    "nx.draw_networkx(G2)\n",
    "\n"
   ]
  },
  {
   "cell_type": "markdown",
   "metadata": {},
   "source": [
    "Exercício 1: \n",
    "- adicione um nó 4 ao grafo.\n",
    "- adicione um nó 5 ao grafo.\n",
    "- ligue o nó 4 ao nó 2.\n",
    "- ligue o nó 5 ao nó 3.\n",
    "- desenhe o grafo em forma circular.\n",
    "- desenhe o grafo em forma espiral."
   ]
  },
  {
   "cell_type": "code",
   "execution_count": null,
   "metadata": {
    "collapsed": true
   },
   "outputs": [],
   "source": [
    "# Resolução do Exercício 1:\n",
    "\n",
    "?????"
   ]
  },
  {
   "cell_type": "markdown",
   "metadata": {},
   "source": [
    "### Visualização usando Matrix plots\n",
    "\n",
    "O pacote nxviz fornece um objeto MatrixPlot para fazer um gráfico da matriz. \n",
    "\n",
    "O MatrixPlot utiliza nx.to_numpy_matrix (G), que retorna a forma de matriz do gráfico. Aqui, cada nó é uma coluna e uma linha, e uma vantagem entre os dois nós é indicada pelo valor 1. No entanto, apenas os metadados de peso são preservados; todos os outros metadados são perdidos."
   ]
  },
  {
   "cell_type": "code",
   "execution_count": null,
   "metadata": {
    "collapsed": true
   },
   "outputs": [],
   "source": [
    "# Instalação do nxviz\n",
    "! pip install nxviz"
   ]
  },
  {
   "cell_type": "code",
   "execution_count": null,
   "metadata": {
    "collapsed": true
   },
   "outputs": [],
   "source": [
    "# Nós do Grafo T\n",
    "T_nos = [1,3,4,5, 6, 7, 8, 9, 10, 11, 12, 13, 14, 15, 16, 17, 18, 19, 20,\n",
    "         21, 22, 23, 24, 25, 26, 27, 28, 29, 30, 31, 32, 33, 34, 35, 36, 37, 38, 39, 40,\n",
    "         41, 42, 43, 44, 45, 46, 47, 48, 49]"
   ]
  },
  {
   "cell_type": "code",
   "execution_count": null,
   "metadata": {
    "collapsed": true
   },
   "outputs": [],
   "source": [
    "# Arestas do Grafo T\n",
    "T_edges = [(1, 3), (1, 4), (1, 5), (1, 6), (1, 7), (1, 8), (1, 9), (1, 10), (1, 11), (1, 12), (1, 13), (1, 14), (1, 15),\n",
    "           (1, 16),(1, 17), (1, 18), (1, 19), (1, 20), (1, 21), (1, 22), (1, 23), (1, 24), (1, 25), (1, 26), (1, 27),\n",
    "           (1, 28), (1, 29), (1, 30), (1, 31), (1, 32), (1, 33), (1, 34), (1, 35), (1, 36), (1, 37), (1, 38), (1, 39),\n",
    "           (1, 40), (1, 41), (1, 42), (1, 43), (1, 44), (1, 45), (1, 46), (1, 47), (1, 48), (1, 49), (16, 48), (16, 18),\n",
    "           (16, 35), (16, 36), (18, 16), (18, 24), (18, 35), (18, 36), (19, 35), (19, 36), (19, 5), (19, 8), (19, 11),\n",
    "           (19, 13), (19, 15), (19, 48), (19, 17), (19, 20), (19, 21), (19, 24), (19, 37), (19, 30), (19, 31), (28, 1),\n",
    "           (28, 5), (28, 7), (28, 8), (28, 11), (28, 14), (28, 15), (28, 17), (28, 20), (28, 21), (28, 24), (28, 25),\n",
    "           (28, 27),  (28, 29), (28, 30), (28, 31), (28, 35), (28, 36), (28, 37), (28, 44), (28, 48), (28, 49), (36, 24),\n",
    "           (36, 35), (36, 5), (36, 37), (37, 24), (37, 35), (37, 36), (39, 1), (39, 35), (39, 36), (39, 38), (39, 33),\n",
    "           (39, 40), (39, 41), (39, 45), (39, 24),(42, 1),(43, 48), (43, 35), (43, 36), (43, 37), (43, 24), (43, 29),\n",
    "           (43, 47), (45, 1), (45, 39), (45, 41)]"
   ]
  },
  {
   "cell_type": "code",
   "execution_count": null,
   "metadata": {
    "collapsed": true
   },
   "outputs": [],
   "source": [
    "T = nx.Graph() \n",
    "T.add_nodes_from(T_nos)"
   ]
  },
  {
   "cell_type": "code",
   "execution_count": null,
   "metadata": {},
   "outputs": [],
   "source": [
    "# Draw the graph to screen\n",
    "nx.draw(T)"
   ]
  },
  {
   "cell_type": "code",
   "execution_count": null,
   "metadata": {},
   "outputs": [],
   "source": [
    "T.add_edges_from(T_edges)\n",
    "\n",
    "# Draw the graph to screen\n",
    "nx.draw(T)"
   ]
  },
  {
   "cell_type": "markdown",
   "metadata": {},
   "source": [
    "#### Plotando o Grafo em forma matricial"
   ]
  },
  {
   "cell_type": "code",
   "execution_count": null,
   "metadata": {},
   "outputs": [],
   "source": [
    "# Import nxviz\n",
    "import nxviz as nv\n",
    "\n",
    "# Create the MatrixPlot object: m\n",
    "m = nv.MatrixPlot(T)\n",
    "\n",
    "# Draw m to the screen\n",
    "m.draw()\n"
   ]
  },
  {
   "cell_type": "markdown",
   "metadata": {},
   "source": [
    "Exercício 2:\n",
    "- crie um digráfo denominado de T2 com 10 nós.\n",
    "- o nós n está ligado ao nós n+1.\n",
    "- plote o grafo\n",
    "- plote a matriz do grafo"
   ]
  },
  {
   "cell_type": "code",
   "execution_count": null,
   "metadata": {
    "collapsed": true
   },
   "outputs": [],
   "source": [
    "# Resolução do exercício 2\n",
    "???\n"
   ]
  },
  {
   "cell_type": "markdown",
   "metadata": {},
   "source": [
    "Com o pacote nxviz é possível se plotar o grafo na forma circular\n",
    "- método CircosPlot"
   ]
  },
  {
   "cell_type": "code",
   "execution_count": null,
   "metadata": {},
   "outputs": [],
   "source": [
    "# Import necessary modules\n",
    "import matplotlib.pyplot as plt\n",
    "from nxviz import CircosPlot\n",
    "\n",
    "# Create the CircosPlot object: c\n",
    "c = CircosPlot(T)\n",
    "\n",
    "# Draw c to the screen\n",
    "c.draw()\n",
    "\n",
    "# Display the plot\n",
    "plt.show()"
   ]
  },
  {
   "cell_type": "markdown",
   "metadata": {},
   "source": [
    "Com o pacote nxviz é possível se plotar o grafo na forma de arco (nós dispostos num reta)\n",
    "- método ArcPlot"
   ]
  },
  {
   "cell_type": "code",
   "execution_count": null,
   "metadata": {},
   "outputs": [],
   "source": [
    "# Import necessary modules\n",
    "import matplotlib.pyplot as plt\n",
    "from nxviz import ArcPlot\n",
    "\n",
    "# Create the un-customized ArcPlot object: a\n",
    "a = ArcPlot(T)\n",
    "\n",
    "# Draw a to the screen\n",
    "a.draw()\n",
    "\n",
    "# Display the plot\n",
    "plt.show()"
   ]
  },
  {
   "cell_type": "markdown",
   "metadata": {},
   "source": [
    "Exercício 3: Refaça o exercício 1, utilizando-se os métodos do pacote nxviz."
   ]
  },
  {
   "cell_type": "code",
   "execution_count": null,
   "metadata": {
    "collapsed": true
   },
   "outputs": [],
   "source": [
    "## Resolução do Exercício 3:\n",
    "\n",
    "????"
   ]
  },
  {
   "cell_type": "markdown",
   "metadata": {},
   "source": [
    "#### Resetando um Grafo\n",
    "- Para remover todos os nós d eum grafo, usa-se o método Grafo.clear()."
   ]
  },
  {
   "cell_type": "code",
   "execution_count": null,
   "metadata": {},
   "outputs": [],
   "source": [
    "# Desenhando o Grafo G\n",
    "nx.draw_networkx(G)"
   ]
  },
  {
   "cell_type": "code",
   "execution_count": null,
   "metadata": {},
   "outputs": [],
   "source": [
    "# Resetando o Grafo G\n",
    "G.clear()\n",
    "nx.draw_networkx(G)"
   ]
  },
  {
   "cell_type": "code",
   "execution_count": null,
   "metadata": {},
   "outputs": [],
   "source": [
    "# Adição de 03 nós interligados no grafo G\n",
    "\n",
    "G.add_edges_from([(\"a\",\"b\"),(\"b\",\"c\")])\n",
    "nx.draw_networkx(G)"
   ]
  },
  {
   "cell_type": "code",
   "execution_count": null,
   "metadata": {},
   "outputs": [],
   "source": [
    "# Criação de um grafo com 10 nós em sequência\n",
    "H=nx.path_graph(10)\n",
    "nx.draw_networkx(H)"
   ]
  },
  {
   "cell_type": "code",
   "execution_count": null,
   "metadata": {},
   "outputs": [],
   "source": [
    "# Adição de nós de um grafo para outro\n",
    "G.add_nodes_from(H)\n",
    "nx.draw_networkx(G)"
   ]
  },
  {
   "cell_type": "markdown",
   "metadata": {},
   "source": [
    "### Atributos de Arestas\n",
    "\n",
    "Os atributos das arestas podem ser qualquer coisa. "
   ]
  },
  {
   "cell_type": "code",
   "execution_count": null,
   "metadata": {},
   "outputs": [],
   "source": [
    "# Exemplo de função na aresta e função no grafo\n",
    "import math\n",
    "\n",
    "G4 = nx.Graph()\n",
    "G4.add_edge('y','x',function=math.cos)\n",
    "G4.add_node(math.cos) # any hashable can be a node\n",
    "\n",
    "nx.draw_networkx(G4)"
   ]
  },
  {
   "cell_type": "code",
   "execution_count": null,
   "metadata": {},
   "outputs": [],
   "source": [
    "# Adicionando diversos nós e arestas de uma só vez\n",
    "\n",
    "G = nx.Graph()\n",
    "elist=[('a','b',5.0),('b','c',3.0),('a','c',1.0),('c','d',7.3)]\n",
    "G.add_weighted_edges_from(elist)\n",
    "\n",
    "nx.draw_networkx(G)"
   ]
  },
  {
   "cell_type": "markdown",
   "metadata": {},
   "source": [
    "O que ocorre se se romover o nó 'c' do grafo acima?"
   ]
  },
  {
   "cell_type": "code",
   "execution_count": null,
   "metadata": {
    "collapsed": true
   },
   "outputs": [],
   "source": [
    "# Espaço para verificação \n"
   ]
  },
  {
   "cell_type": "code",
   "execution_count": null,
   "metadata": {},
   "outputs": [],
   "source": [
    "G2 = nx.Graph()\n",
    "G2.add_edge(1, 2, color='red', weight=0.84, size=300)\n",
    "\n",
    "print(G2[1][2]['size'])\n",
    "print(G2.edges[1, 2]['color'])"
   ]
  },
  {
   "cell_type": "markdown",
   "metadata": {},
   "source": [
    "### Métodos Básicos Sobre Grafos:\n",
    "- Nós\n",
    "- Arestas.\n",
    "- Número de nós.\n",
    "- Número de arestas.\n",
    "- Nós vizinhos de um determinado nó.\n"
   ]
  },
  {
   "cell_type": "code",
   "execution_count": null,
   "metadata": {},
   "outputs": [],
   "source": [
    "# Criação do Grafo G\n",
    "G = nx.Graph()\n",
    "elist=[(1,2,5.0),(2,3,3.0),(1,3,1.0),(3,4,7.3)]\n",
    "G.add_weighted_edges_from(elist)\n",
    "\n",
    "nx.draw_networkx(G)"
   ]
  },
  {
   "cell_type": "code",
   "execution_count": null,
   "metadata": {},
   "outputs": [],
   "source": [
    "print( \"Nós do Grafo G = \", G.number_of_nodes())\n",
    "print( \"Arestas do Garfo G = \", G.number_of_edges()) "
   ]
  },
  {
   "cell_type": "code",
   "execution_count": null,
   "metadata": {},
   "outputs": [],
   "source": [
    "print(\"Nós do Grafo G: \", G.nodes())\n",
    "print(\"Arestas do grafo G: \", G.edges())\n",
    "print(\"Nós vizinhos do nó 1 do Grafo G : \", G.neighbors(3))"
   ]
  },
  {
   "cell_type": "code",
   "execution_count": null,
   "metadata": {},
   "outputs": [],
   "source": [
    "len(G)"
   ]
  },
  {
   "cell_type": "code",
   "execution_count": null,
   "metadata": {},
   "outputs": [],
   "source": [
    "len(G.nodes())"
   ]
  },
  {
   "cell_type": "code",
   "execution_count": null,
   "metadata": {},
   "outputs": [],
   "source": [
    "G.number_of_nodes()"
   ]
  },
  {
   "cell_type": "code",
   "execution_count": null,
   "metadata": {},
   "outputs": [],
   "source": [
    "len(G.edges())"
   ]
  },
  {
   "cell_type": "code",
   "execution_count": null,
   "metadata": {},
   "outputs": [],
   "source": [
    "G.number_of_edges()"
   ]
  },
  {
   "cell_type": "code",
   "execution_count": null,
   "metadata": {},
   "outputs": [],
   "source": [
    "G.edges"
   ]
  },
  {
   "cell_type": "code",
   "execution_count": null,
   "metadata": {},
   "outputs": [],
   "source": [
    "G.edges.data('weight')"
   ]
  },
  {
   "cell_type": "code",
   "execution_count": null,
   "metadata": {},
   "outputs": [],
   "source": [
    "G.nodes"
   ]
  },
  {
   "cell_type": "code",
   "execution_count": null,
   "metadata": {},
   "outputs": [],
   "source": [
    "G.neighbors(1)"
   ]
  },
  {
   "cell_type": "code",
   "execution_count": null,
   "metadata": {},
   "outputs": [],
   "source": [
    "G.adj"
   ]
  },
  {
   "cell_type": "code",
   "execution_count": null,
   "metadata": {},
   "outputs": [],
   "source": [
    "G.adj[1]"
   ]
  },
  {
   "cell_type": "code",
   "execution_count": null,
   "metadata": {},
   "outputs": [],
   "source": [
    "G.adj[1].values()"
   ]
  },
  {
   "cell_type": "code",
   "execution_count": null,
   "metadata": {},
   "outputs": [],
   "source": [
    "len(G.adj[1])"
   ]
  },
  {
   "cell_type": "code",
   "execution_count": null,
   "metadata": {},
   "outputs": [],
   "source": [
    "nx.draw_networkx(G)"
   ]
  },
  {
   "cell_type": "code",
   "execution_count": null,
   "metadata": {
    "collapsed": true
   },
   "outputs": [],
   "source": [
    "G.add_edge(1,4)"
   ]
  },
  {
   "cell_type": "code",
   "execution_count": null,
   "metadata": {},
   "outputs": [],
   "source": [
    "nx.draw_networkx(G)"
   ]
  },
  {
   "cell_type": "code",
   "execution_count": null,
   "metadata": {},
   "outputs": [],
   "source": [
    "# Acessando o nó 1\n",
    "G[1]"
   ]
  },
  {
   "cell_type": "code",
   "execution_count": null,
   "metadata": {},
   "outputs": [],
   "source": [
    "# Acessando o nó 2\n",
    "G[2]"
   ]
  },
  {
   "cell_type": "code",
   "execution_count": null,
   "metadata": {},
   "outputs": [],
   "source": [
    "# Acessando Aresta [k][j]\n",
    "G[1][4]"
   ]
  },
  {
   "cell_type": "code",
   "execution_count": null,
   "metadata": {
    "collapsed": true
   },
   "outputs": [],
   "source": [
    "G[1][4]['color']='blue'"
   ]
  },
  {
   "cell_type": "code",
   "execution_count": null,
   "metadata": {},
   "outputs": [],
   "source": [
    "G[1][4]"
   ]
  },
  {
   "cell_type": "code",
   "execution_count": null,
   "metadata": {},
   "outputs": [],
   "source": [
    "nx.draw_networkx(G)"
   ]
  },
  {
   "cell_type": "code",
   "execution_count": null,
   "metadata": {
    "collapsed": true
   },
   "outputs": [],
   "source": [
    "G.add_edges_from([(3,5),(4,5)], color='blue')"
   ]
  },
  {
   "cell_type": "code",
   "execution_count": null,
   "metadata": {},
   "outputs": [],
   "source": [
    "nx.draw_networkx(G)"
   ]
  },
  {
   "cell_type": "code",
   "execution_count": null,
   "metadata": {},
   "outputs": [],
   "source": [
    "G.graph"
   ]
  },
  {
   "cell_type": "code",
   "execution_count": null,
   "metadata": {},
   "outputs": [],
   "source": [
    "G.add_edges_from([(7,5, {'color':'blue'}),(6,7)])"
   ]
  },
  {
   "cell_type": "code",
   "execution_count": null,
   "metadata": {},
   "outputs": [],
   "source": [
    "nx.draw_networkx(G)"
   ]
  },
  {
   "cell_type": "code",
   "execution_count": null,
   "metadata": {},
   "outputs": [],
   "source": [
    "G.add_node(8, color= 'blue')"
   ]
  },
  {
   "cell_type": "markdown",
   "metadata": {},
   "source": [
    "#### Grau dos nós\n",
    "- quantidade de aresta de cada nós"
   ]
  },
  {
   "cell_type": "code",
   "execution_count": null,
   "metadata": {},
   "outputs": [],
   "source": [
    "nx.degree(G)"
   ]
  },
  {
   "cell_type": "code",
   "execution_count": null,
   "metadata": {},
   "outputs": [],
   "source": [
    "G.degree()"
   ]
  },
  {
   "cell_type": "code",
   "execution_count": null,
   "metadata": {},
   "outputs": [],
   "source": [
    "nx.degree(G)(1)"
   ]
  },
  {
   "cell_type": "code",
   "execution_count": null,
   "metadata": {},
   "outputs": [],
   "source": [
    "G.degree()(1)"
   ]
  },
  {
   "cell_type": "code",
   "execution_count": null,
   "metadata": {},
   "outputs": [],
   "source": [
    "G.degree(1)"
   ]
  },
  {
   "cell_type": "code",
   "execution_count": null,
   "metadata": {},
   "outputs": [],
   "source": [
    "nx.degree(G,1)"
   ]
  },
  {
   "cell_type": "markdown",
   "metadata": {
    "collapsed": true
   },
   "source": [
    "#### Exercício 4:\n",
    "- Obtenha o nó no grafo G que possui mais arestas."
   ]
  },
  {
   "cell_type": "code",
   "execution_count": null,
   "metadata": {
    "collapsed": true
   },
   "outputs": [],
   "source": [
    "# Resolução do Exercício 4\n",
    "\n",
    "???????"
   ]
  },
  {
   "cell_type": "markdown",
   "metadata": {},
   "source": [
    "#### Exemplo com DiGraph"
   ]
  },
  {
   "cell_type": "code",
   "execution_count": null,
   "metadata": {},
   "outputs": [],
   "source": [
    "DG=nx.DiGraph()\n",
    "DG.add_weighted_edges_from([(1,2,0.5), (3,1,0.75)])\n",
    "DG.out_degree(1,weight='weight')"
   ]
  },
  {
   "cell_type": "code",
   "execution_count": null,
   "metadata": {},
   "outputs": [],
   "source": [
    "nx.draw_networkx(DG)"
   ]
  },
  {
   "cell_type": "code",
   "execution_count": null,
   "metadata": {},
   "outputs": [],
   "source": [
    "DG.successors(1)"
   ]
  },
  {
   "cell_type": "markdown",
   "metadata": {},
   "source": [
    "#### Multigrafos\n",
    "O NetworkX fornece classes para gráficos que permitem arestas múltiplas entre qualquer par de nós. \n",
    "\n",
    "As classes MultiGraph e MultiDiGraph permitem que você adicione a mesma aresta duas vezes, possivelmente com diferentes dados de aresta. Isso pode ser poderoso para algumas aplicações, mas muitos algoritmos não estão bem definidos em tais gráficos. \n",
    "\n",
    "O caminho mais curto é um exemplo. Onde os resultados estão bem definidos, e. MultiGraph.degree () nós fornecemos a função. Caso contrário, você deve converter para um gráfico padrão de forma a que a medida seja bem definida."
   ]
  },
  {
   "cell_type": "code",
   "execution_count": null,
   "metadata": {},
   "outputs": [],
   "source": [
    "MG=nx.MultiGraph()\n",
    "MG.add_weighted_edges_from([(1,2,.5), (1,2,.75), (2,3,.5)])\n",
    "MG.degree(weight='weight')"
   ]
  },
  {
   "cell_type": "code",
   "execution_count": null,
   "metadata": {},
   "outputs": [],
   "source": [
    "nx.draw_networkx(MG)"
   ]
  },
  {
   "cell_type": "markdown",
   "metadata": {},
   "source": [
    "### Grafos clássicos de small world"
   ]
  },
  {
   "cell_type": "code",
   "execution_count": null,
   "metadata": {
    "collapsed": true
   },
   "outputs": [],
   "source": [
    "petersen=nx.petersen_graph()\n",
    "nx.draw_networkx(petersen)"
   ]
  },
  {
   "cell_type": "code",
   "execution_count": null,
   "metadata": {},
   "outputs": [],
   "source": [
    "tutte=nx.tutte_graph()\n",
    "nx.draw_networkx(tutte)"
   ]
  },
  {
   "cell_type": "code",
   "execution_count": null,
   "metadata": {
    "collapsed": true
   },
   "outputs": [],
   "source": [
    "maze=nx.sedgewick_maze_graph()\n",
    "nx.draw_networkx(maze)"
   ]
  },
  {
   "cell_type": "code",
   "execution_count": null,
   "metadata": {
    "collapsed": true
   },
   "outputs": [],
   "source": [
    "tet=nx.tetrahedral_graph()\n",
    "nx.draw_networkx(tet)"
   ]
  },
  {
   "cell_type": "code",
   "execution_count": null,
   "metadata": {},
   "outputs": [],
   "source": [
    "GC = nx.cubical_graph()\n",
    "nx.draw(GC) # default spring_layout\n",
    "nx.draw(GC, pos=nx.spectral_layout(GC), nodecolor='r', edge_color='b')"
   ]
  },
  {
   "cell_type": "markdown",
   "metadata": {},
   "source": [
    "### Mais grafos clássicos"
   ]
  },
  {
   "cell_type": "code",
   "execution_count": null,
   "metadata": {
    "collapsed": true
   },
   "outputs": [],
   "source": [
    "K_5=nx.complete_graph(5)\n",
    "nx.draw_networkx(K_5)"
   ]
  },
  {
   "cell_type": "code",
   "execution_count": null,
   "metadata": {
    "collapsed": true
   },
   "outputs": [],
   "source": [
    "K_3_5=nx.complete_bipartite_graph(3,5)\n",
    "nx.draw_networkx(K_3_5)"
   ]
  },
  {
   "cell_type": "code",
   "execution_count": null,
   "metadata": {
    "collapsed": true
   },
   "outputs": [],
   "source": [
    "barbell=nx.barbell_graph(10,10)\n",
    "nx.draw_networkx(barbell)"
   ]
  },
  {
   "cell_type": "code",
   "execution_count": null,
   "metadata": {
    "collapsed": true
   },
   "outputs": [],
   "source": [
    "lollipop=nx.lollipop_graph(10,20)\n",
    "nx.draw_networkx(lollipop)"
   ]
  },
  {
   "cell_type": "markdown",
   "metadata": {},
   "source": [
    "### Grafos Randômicos"
   ]
  },
  {
   "cell_type": "code",
   "execution_count": null,
   "metadata": {
    "collapsed": true
   },
   "outputs": [],
   "source": [
    "er=nx.erdos_renyi_graph(100,0.15)\n",
    "nx.draw_networkx(er)"
   ]
  },
  {
   "cell_type": "code",
   "execution_count": null,
   "metadata": {
    "collapsed": true
   },
   "outputs": [],
   "source": [
    "ws=nx.watts_strogatz_graph(30,3,0.1)\n",
    "nx.draw_networkx(ws)"
   ]
  },
  {
   "cell_type": "code",
   "execution_count": null,
   "metadata": {
    "collapsed": true
   },
   "outputs": [],
   "source": [
    "ba=nx.barabasi_albert_graph(100,5)\n",
    "nx.draw_networkx(ba)"
   ]
  },
  {
   "cell_type": "code",
   "execution_count": null,
   "metadata": {
    "collapsed": true
   },
   "outputs": [],
   "source": [
    "red=nx.random_lobster(100,0.9,0.9)\n",
    "nx.draw_networkx(red)"
   ]
  },
  {
   "cell_type": "markdown",
   "metadata": {},
   "source": [
    "### Escrita e Leitura de Grafos em Arquivos\n",
    "- No padrão de grafos (gml)"
   ]
  },
  {
   "cell_type": "code",
   "execution_count": null,
   "metadata": {},
   "outputs": [],
   "source": [
    "nx.write_gml(tutte,\"arquivo_test1\")\n",
    "mygraph=nx.read_gml(\"arquivo_test1\")\n",
    "nx.draw_networkx(tutte)"
   ]
  },
  {
   "cell_type": "code",
   "execution_count": null,
   "metadata": {},
   "outputs": [],
   "source": [
    "nx.draw_networkx(mygraph)"
   ]
  },
  {
   "cell_type": "code",
   "execution_count": null,
   "metadata": {},
   "outputs": [],
   "source": [
    "nx.degree_histogram(mygraph)"
   ]
  },
  {
   "cell_type": "code",
   "execution_count": null,
   "metadata": {},
   "outputs": [],
   "source": [
    "nx.degree(mygraph)"
   ]
  },
  {
   "cell_type": "code",
   "execution_count": null,
   "metadata": {},
   "outputs": [],
   "source": [
    "nx.nodes(mygraph)"
   ]
  },
  {
   "cell_type": "code",
   "execution_count": null,
   "metadata": {},
   "outputs": [],
   "source": [
    "g = nx.erdos_renyi_graph(100,0.15)\n",
    "nx.draw(g)\n",
    "nx.draw_random(g)\n",
    "nx.draw_circular(g)\n",
    "nx.draw_spectral(g)"
   ]
  },
  {
   "cell_type": "code",
   "execution_count": null,
   "metadata": {},
   "outputs": [],
   "source": [
    "nx.draw_random(g)\n",
    "nx.draw_circular(g)\n",
    "nx.draw_spectral(g)"
   ]
  },
  {
   "cell_type": "code",
   "execution_count": null,
   "metadata": {},
   "outputs": [],
   "source": [
    "nx.draw_circular(g)\n",
    "nx.draw_spectral(g)"
   ]
  },
  {
   "cell_type": "code",
   "execution_count": null,
   "metadata": {},
   "outputs": [],
   "source": [
    "nx.draw_spectral(g)"
   ]
  },
  {
   "cell_type": "markdown",
   "metadata": {},
   "source": [
    "## Geradores e Operações\n",
    "\n",
    "- Operações clássicas sobre grafos\n",
    "\n",
    "    - subgraph(G, nbunch)      - induce subgraph of G on nodes in nbunch\n",
    "\n",
    "    - union(G1,G2)             - graph union\n",
    "\n",
    "    - disjoint_union(G1,G2)    - graph union assuming all nodes are different\n",
    "\n",
    "    - cartesian_product(G1,G2) - return Cartesian product graph\n",
    "\n",
    "    - compose(G1,G2)           - combine graphs identifying nodes common to both\n",
    "\n",
    "    - complement(G)            - graph complement\n",
    "\n",
    "    - create_empty_copy(G)     - return an empty copy of the same graph class\n",
    "\n",
    "    - convert_to_undirected(G) - return an undirected representation of G\n",
    "\n",
    "    - convert_to_directed(G)   - return a directed representation of G\n",
    "\n"
   ]
  },
  {
   "cell_type": "markdown",
   "metadata": {},
   "source": [
    "#### Sub-Grafo"
   ]
  },
  {
   "cell_type": "code",
   "execution_count": null,
   "metadata": {},
   "outputs": [],
   "source": [
    "# Exemplo de Sub-grafo\n",
    "G5 = nx.path_graph(5)\n",
    "H5 = G5.edge_subgraph([(0, 1), (3, 4)])\n",
    "list(H5.nodes)"
   ]
  },
  {
   "cell_type": "code",
   "execution_count": null,
   "metadata": {},
   "outputs": [],
   "source": [
    "list(H5.edges)"
   ]
  },
  {
   "cell_type": "markdown",
   "metadata": {},
   "source": [
    "## Algoritmos Sobre Grafos"
   ]
  },
  {
   "cell_type": "markdown",
   "metadata": {},
   "source": [
    "### Caminho Mínimo"
   ]
  },
  {
   "cell_type": "code",
   "execution_count": null,
   "metadata": {},
   "outputs": [],
   "source": [
    "# Algoritmo de Dijkstra de caminho mínimo \n",
    "Gx = nx.Graph()\n",
    "e = [('a', 'b', 0.3), ('b', 'c', 0.9), ('a', 'c', 0.5), ('c', 'd', 1.2)]\n",
    "Gx.add_weighted_edges_from(e)\n",
    "print(nx.dijkstra_path(Gx, 'a', 'd'))"
   ]
  },
  {
   "cell_type": "code",
   "execution_count": null,
   "metadata": {},
   "outputs": [],
   "source": [
    "nx.shortest_path(Gx,'a','d')"
   ]
  },
  {
   "cell_type": "markdown",
   "metadata": {},
   "source": [
    "### Bridges\n",
    "- nós de ligação entre sub-redes"
   ]
  },
  {
   "cell_type": "code",
   "execution_count": null,
   "metadata": {},
   "outputs": [],
   "source": [
    "G11 = nx.barbell_graph(10, 0)\n",
    "list(nx.bridges(G11))"
   ]
  },
  {
   "cell_type": "code",
   "execution_count": null,
   "metadata": {},
   "outputs": [],
   "source": [
    "nx.has_bridges(G)"
   ]
  },
  {
   "cell_type": "code",
   "execution_count": null,
   "metadata": {},
   "outputs": [],
   "source": [
    "nx.draw_networkx(G11)"
   ]
  },
  {
   "cell_type": "code",
   "execution_count": null,
   "metadata": {},
   "outputs": [],
   "source": [
    "G12 = nx.cycle_graph(5)\n",
    "nx.has_bridges(G12)"
   ]
  },
  {
   "cell_type": "code",
   "execution_count": null,
   "metadata": {},
   "outputs": [],
   "source": [
    "nx.draw_networkx(G12)"
   ]
  },
  {
   "cell_type": "markdown",
   "metadata": {},
   "source": [
    "### Centralidade\n",
    "- Método degree_centrality(G).\n",
    "- Computa o grau de centralidade para os nós de uma rede.\n",
    "- O grau de centralidade de um nó v é a fração de nós que ele está conectado."
   ]
  },
  {
   "cell_type": "code",
   "execution_count": null,
   "metadata": {},
   "outputs": [],
   "source": [
    "nx.degree_centrality(G12)"
   ]
  },
  {
   "cell_type": "code",
   "execution_count": null,
   "metadata": {},
   "outputs": [],
   "source": [
    "nx.degree_centrality(G11)"
   ]
  },
  {
   "cell_type": "code",
   "execution_count": null,
   "metadata": {},
   "outputs": [],
   "source": [
    "# Compute the degree centrality of the Twitter network: deg_cent\n",
    "deg_cent = nx.degree_centrality(T)\n",
    "\n",
    "# Plot a histogram of the degree centrality distribution of the graph\n",
    "plt.figure()\n",
    "plt.hist(list(deg_cent.values()))"
   ]
  },
  {
   "cell_type": "code",
   "execution_count": null,
   "metadata": {},
   "outputs": [],
   "source": [
    "# Compute the degree centrality of the Twitter network: deg_cent\n",
    "deg_cent = nx.degree_centrality(G11)\n",
    "\n",
    "# Plot a histogram of the degree centrality distribution of the graph\n",
    "plt.figure()\n",
    "plt.hist(list(deg_cent.values()))"
   ]
  },
  {
   "cell_type": "markdown",
   "metadata": {},
   "source": [
    "### Betweenness centrality\n",
    "- num. de caminhos mínimos atraves do nó dividido por todos os caminhos mínimos.\n",
    "- método betweenness_centrality(Grafo).\n",
    "- indica o quanto o nó liga grupo distintos:\n",
    "    - links críticos de transferência de informação."
   ]
  },
  {
   "cell_type": "code",
   "execution_count": null,
   "metadata": {},
   "outputs": [],
   "source": [
    "G13 = nx.barbell_graph(m1=5, m2=1)\n",
    "nx.draw_networkx(G13)"
   ]
  },
  {
   "cell_type": "code",
   "execution_count": null,
   "metadata": {},
   "outputs": [],
   "source": [
    "nx.betweenness_centrality(G13)"
   ]
  },
  {
   "cell_type": "markdown",
   "metadata": {},
   "source": [
    "### Grafo tipo Chordal\n",
    "- Um grafo é dito Chordal se\n",
    "Um gráfico é chordal se todo ciclo de comprimento de pelo menos 4  tem um chord (uma borda que junta dois nós não adjacentes no ciclo)."
   ]
  },
  {
   "cell_type": "code",
   "execution_count": null,
   "metadata": {},
   "outputs": [],
   "source": [
    "e=[(1,2),(1,3),(2,3),(2,4),(3,4),(3,5),(3,6),(4,5),(4,6),(5,6)]\n",
    "G14=nx.Graph(e)\n",
    "nx.is_chordal(G14)"
   ]
  },
  {
   "cell_type": "code",
   "execution_count": null,
   "metadata": {},
   "outputs": [],
   "source": [
    "nx.draw_networkx(G14)"
   ]
  },
  {
   "cell_type": "markdown",
   "metadata": {},
   "source": [
    "### Clustering\n",
    "- Determina o número de agrupamento\n",
    "- triangles() - computa o número de triângulos.\n",
    "- clustering() - computa o coeficiente d eagrupamento do grafo\n",
    "- communicability(G) - retorna o grau de comunicabilidade entr todos os pares de nós do grafo G."
   ]
  },
  {
   "cell_type": "code",
   "execution_count": null,
   "metadata": {},
   "outputs": [],
   "source": [
    "G15=nx.complete_graph(5)\n",
    "\n",
    "nx.draw_networkx(G15)"
   ]
  },
  {
   "cell_type": "code",
   "execution_count": null,
   "metadata": {},
   "outputs": [],
   "source": [
    "print(nx.triangles(G15,0))\n",
    "print(nx.triangles(G15))\n",
    "print(list(nx.triangles(G15,(0,1)).values()))"
   ]
  },
  {
   "cell_type": "code",
   "execution_count": null,
   "metadata": {},
   "outputs": [],
   "source": [
    "print(nx.clustering(G15,0))\n",
    "print(nx.clustering(G15))"
   ]
  },
  {
   "cell_type": "code",
   "execution_count": null,
   "metadata": {},
   "outputs": [],
   "source": [
    "G16 = nx.Graph([(0,1),(1,2),(1,5),(5,4),(2,4),(2,3),(4,3),(3,6)])\n",
    "nx.draw_networkx(G16)\n",
    "nx.communicability(G16)"
   ]
  },
  {
   "cell_type": "markdown",
   "metadata": {},
   "source": [
    "### Outras funções sobre grafos\n",
    "- densidade do grafo - density( )\n",
    "- informação/resumo sobre o grafo - info( )\n",
    "- grafo do tipo estrela"
   ]
  },
  {
   "cell_type": "code",
   "execution_count": null,
   "metadata": {},
   "outputs": [],
   "source": [
    "nx.classes.function.density(G16)"
   ]
  },
  {
   "cell_type": "code",
   "execution_count": null,
   "metadata": {},
   "outputs": [],
   "source": [
    "nx.classes.function.info(G16)"
   ]
  },
  {
   "cell_type": "code",
   "execution_count": null,
   "metadata": {
    "collapsed": true
   },
   "outputs": [],
   "source": [
    "G17 = nx.Graph()\n",
    "nx.add_star(G17, [0, 1, 2, 3])\n",
    "nx.add_star(G17, [10, 11, 12], weight=2)"
   ]
  },
  {
   "cell_type": "code",
   "execution_count": null,
   "metadata": {},
   "outputs": [],
   "source": [
    "nx.draw_networkx(G17)"
   ]
  },
  {
   "cell_type": "code",
   "execution_count": null,
   "metadata": {
    "collapsed": true
   },
   "outputs": [],
   "source": [
    "### Funções para se obter nós vizinhos\n",
    "- common_neighbors(G,n1,n2) - retorna os nós vizinho entre os nós n1 e n2 no grafo G.\n",
    "- non_neighbors(G,n)"
   ]
  },
  {
   "cell_type": "code",
   "execution_count": 5,
   "metadata": {},
   "outputs": [
    {
     "data": {
      "text/plain": [
       "[2, 3, 4]"
      ]
     },
     "execution_count": 5,
     "metadata": {},
     "output_type": "execute_result"
    }
   ],
   "source": [
    "G20 = nx.complete_graph(5)\n",
    "sorted(nx.common_neighbors(G20, 0, 1))"
   ]
  },
  {
   "cell_type": "code",
   "execution_count": 15,
   "metadata": {},
   "outputs": [
    {
     "data": {
      "text/plain": [
       "<generator object non_neighbors.<locals>.<genexpr> at 0x11124e3b8>"
      ]
     },
     "execution_count": 15,
     "metadata": {},
     "output_type": "execute_result"
    }
   ],
   "source": [
    "nx.non_neighbors(G20, 1)"
   ]
  },
  {
   "cell_type": "code",
   "execution_count": 13,
   "metadata": {},
   "outputs": [
    {
     "data": {
      "text/plain": [
       "AtlasView({1: {}, 2: {}, 3: {}, 4: {}})"
      ]
     },
     "execution_count": 13,
     "metadata": {},
     "output_type": "execute_result"
    }
   ],
   "source": [
    "G20.adj"
   ]
  },
  {
   "cell_type": "code",
   "execution_count": null,
   "metadata": {
    "collapsed": true
   },
   "outputs": [],
   "source": [
    "G20.adj[0]"
   ]
  },
  {
   "cell_type": "code",
   "execution_count": null,
   "metadata": {
    "collapsed": true
   },
   "outputs": [],
   "source": []
  }
 ],
 "metadata": {
  "kernelspec": {
   "display_name": "Python 3",
   "language": "python",
   "name": "python3"
  },
  "language_info": {
   "codemirror_mode": {
    "name": "ipython",
    "version": 3
   },
   "file_extension": ".py",
   "mimetype": "text/x-python",
   "name": "python",
   "nbconvert_exporter": "python",
   "pygments_lexer": "ipython3",
   "version": "3.6.3"
  }
 },
 "nbformat": 4,
 "nbformat_minor": 2
}
